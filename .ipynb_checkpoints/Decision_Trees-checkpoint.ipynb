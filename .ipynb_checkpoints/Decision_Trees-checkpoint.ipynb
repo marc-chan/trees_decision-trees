{
 "cells": [
  {
   "cell_type": "markdown",
   "metadata": {},
   "source": [
    "# Decision Trees: A Primer\n",
    "\n",
    "Decision trees are excellent for classification tasks, and can even be modified to perform regression.\n",
    "\n",
    "In this notebook, we will go through the steps required to implement a decision tree for classification, determining if a banknote is a counterfeit. \n",
    "\n",
    "This will set the basic framework for us to build on when implementing Random Forests, in the next notebook."
   ]
  },
  {
   "cell_type": "code",
   "execution_count": 1,
   "metadata": {
    "collapsed": true
   },
   "outputs": [],
   "source": [
    "import numpy as np\n",
    "from time import time"
   ]
  },
  {
   "cell_type": "code",
   "execution_count": 2,
   "metadata": {
    "collapsed": false
   },
   "outputs": [],
   "source": [
    "##Import our banknote dataset\n",
    "data = np.loadtxt(\"data_banknote_authentication.csv\",dtype=np.float32, delimiter=\",\")"
   ]
  },
  {
   "cell_type": "code",
   "execution_count": 3,
   "metadata": {
    "collapsed": true
   },
   "outputs": [],
   "source": [
    "##Partition the data into features X and predicted Y values\n",
    "X = data[:,0:4]\n",
    "y = data[:,4:]\n",
    "del data"
   ]
  },
  {
   "cell_type": "markdown",
   "metadata": {},
   "source": [
    "## What to split based on?\n",
    "\n",
    "Decision trees involve splitting data points at each node/split based on a single feature. \n",
    "\n",
    "For example, if you were constructing a tree to predict whether an individual owns a smartphone, a reasonable feature to split could be their age.\n",
    "\n",
    "However, we need some objective criteria to determine how good our split is, which will help our model to decide \n",
    "    1. Which feature to use for splitting, and; \n",
    "    2. What value of that feature to spilt on\n",
    "    \n",
    "A commonly used metric is the gini impurity, which evaluate how \"pure\" the sample group is. A completely pure group, where all the classes are identical would have a score of 0. \n",
    "\n",
    "We evaluate the quality of a given split by taking the weighted average of gini impurities of the two resulting groups created."
   ]
  },
  {
   "cell_type": "code",
   "execution_count": 4,
   "metadata": {
    "collapsed": true
   },
   "outputs": [],
   "source": [
    "def gini_impurity(y):\n",
    "    n = len(y)\n",
    "    classes = set(np.squeeze(y,axis=1))\n",
    "    impurity = 0\n",
    "    for c in classes:\n",
    "        p = sum(y == c)/n\n",
    "        impurity += p*(1-p)\n",
    "    return (impurity, n)"
   ]
  },
  {
   "cell_type": "code",
   "execution_count": 5,
   "metadata": {
    "collapsed": true
   },
   "outputs": [],
   "source": [
    "def weighted_impurity(y_left,y_right):\n",
    "    gini_left, n_left = gini_impurity(y_left)\n",
    "    gini_right, n_right = gini_impurity(y_right)\n",
    "    impurity = ((gini_left[0]*n_left)+(gini_right[0]*n_right))/(n_left+n_right)\n",
    "    return impurity"
   ]
  },
  {
   "cell_type": "markdown",
   "metadata": {},
   "source": [
    "## Searching for a split point\n",
    "\n",
    "We exhaustively loop through every single feature in the data, assessing quality of split using the gini impurity function above. At each node, we pick the split that gives us the lowest impurity. This continues until we hit a stoppping criteria"
   ]
  },
  {
   "cell_type": "code",
   "execution_count": 6,
   "metadata": {
    "collapsed": true
   },
   "outputs": [],
   "source": [
    "## Split the data based on a feature and its value\n",
    "def split_data(X, i, value):\n",
    "    left = X[:,i] < value\n",
    "    right = X[:,i] >= value\n",
    "    return (left,right)"
   ]
  },
  {
   "cell_type": "code",
   "execution_count": 7,
   "metadata": {
    "collapsed": true
   },
   "outputs": [],
   "source": [
    "## Evaluate each feature in the data to search for the best split\n",
    "def search_split(X,y):\n",
    "    best_i = 0\n",
    "    best_value = 0\n",
    "    best_impurity = 1\n",
    "    for row in X:\n",
    "        for i,value in enumerate(row):\n",
    "            left, right = split_data(X,i,value)\n",
    "            if left.sum()==0 or right.sum()==0:\n",
    "                continue\n",
    "            imp = weighted_impurity(y[left],y[right])\n",
    "            if imp < best_impurity:\n",
    "                best_i = i\n",
    "                best_value = value\n",
    "                best_impurity = imp\n",
    "    return (best_i, best_value, best_impurity)"
   ]
  },
  {
   "cell_type": "markdown",
   "metadata": {},
   "source": [
    "## Stopping Criteria\n",
    "\n",
    "Given free reign, a decision tree will continue to split until every single leaf is \"pure\", i.e. contains only one class. This is undesirable as it might cause our model to overfit to the data, especially deep into the tree, where splitting might occur on very small groups.\n",
    "\n",
    "Therefore when building our tree, we will define several parameters to constrain our tree, such as minimum number of datapoints to perform a split, as well as the depth of the tree constructed."
   ]
  },
  {
   "cell_type": "code",
   "execution_count": 8,
   "metadata": {
    "collapsed": true
   },
   "outputs": [],
   "source": [
    "## Set leaf node to predict based on mean y values\n",
    "def set_leaf(y):\n",
    "    n = len(y)\n",
    "    node = {}\n",
    "    node[\"leaf\"] = True\n",
    "    classes = set(np.squeeze(y,axis=1))\n",
    "    node[\"prediction\"] = {}\n",
    "    for c in classes:\n",
    "        node[\"prediction\"][c] = (sum(y==c)/n)[0]\n",
    "    return node"
   ]
  },
  {
   "cell_type": "code",
   "execution_count": 9,
   "metadata": {
    "collapsed": true
   },
   "outputs": [],
   "source": [
    "## Use recursion to build the tree until a stopping criteria is met\n",
    "def build_tree(X,y,min_n,max_depth,depth=1):\n",
    "    node = {}\n",
    "    i, value, imp = search_split(X,y)\n",
    "    node[\"i\"] = i\n",
    "    node[\"value\"] = value\n",
    "    node[\"impurity\"] = imp\n",
    "    node[\"depth\"] = depth\n",
    "    left, right = split_data(X, i, value)\n",
    "\n",
    "    ## Stopping conditions, \n",
    "    ##  1) Only 1 class left;\n",
    "    ##  2) reach min_n num of points;\n",
    "    ##  3) reach max depth of tree\n",
    "    left_stop = (gini_impurity(y[left])[0][0]==0) or (left.sum()<10) or (depth==max_depth)\n",
    "    right_stop = (gini_impurity(y[right])[0][0]==0) or (right.sum()<10) or (depth==max_depth)\n",
    "    \n",
    "    if left_stop:\n",
    "        node[\"left\"] = set_leaf(y[left])\n",
    "    else:\n",
    "        node[\"left\"] = build_tree(X[left],y[left],min_n,max_depth,depth=depth+1)\n",
    "        \n",
    "    if right_stop:\n",
    "        node[\"right\"] = set_leaf(y[right])\n",
    "    else:\n",
    "        node[\"right\"] = build_tree(X[right],y[right],min_n,max_depth,depth=depth+1)\n",
    "    return node"
   ]
  },
  {
   "cell_type": "code",
   "execution_count": 10,
   "metadata": {
    "collapsed": false
   },
   "outputs": [
    {
     "name": "stdout",
     "output_type": "stream",
     "text": [
      "Tree built in 22.43 seconds.\n"
     ]
    }
   ],
   "source": [
    "tic = time()\n",
    "tree = build_tree(X,y,min_n=10, max_depth=2)\n",
    "toc = time()\n",
    "print(\"Tree built in {:.2f} seconds.\".format(toc-tic))"
   ]
  },
  {
   "cell_type": "markdown",
   "metadata": {},
   "source": [
    "## Using our Tree for Predictions\n",
    "\n",
    "The output of our tree is a dictionary of classes and a predicted confidence between 0 and 1, indicating how confident the model is that given the data, it belongs to that particular class."
   ]
  },
  {
   "cell_type": "code",
   "execution_count": 11,
   "metadata": {
    "collapsed": true
   },
   "outputs": [],
   "source": [
    "## Use recursion once again to navigate the tree\n",
    "def tree_predict(node, X):\n",
    "    if node.get(\"leaf\"):\n",
    "        return node[\"prediction\"]\n",
    "    i = node[\"i\"]\n",
    "    value = node[\"value\"]\n",
    "    if X[i] < value:\n",
    "        return tree_predict(node[\"left\"],X)\n",
    "    else:\n",
    "        return tree_predict(node[\"right\"],X)"
   ]
  },
  {
   "cell_type": "code",
   "execution_count": 12,
   "metadata": {
    "collapsed": false
   },
   "outputs": [
    {
     "name": "stdout",
     "output_type": "stream",
     "text": [
      "Our model predicts: Class 0.0 - 0.93%, Class 1.0 - 0.07%\n"
     ]
    }
   ],
   "source": [
    "prediction = tree_predict(tree,X[100])\n",
    "classes = list(prediction.keys())\n",
    "class_1 = classes[0]\n",
    "class_2 = classes[1]\n",
    "print(\"Our model predicts: Class {} - {:.2f}%, Class {} - {:.2f}%\".format(\n",
    "        class_1,prediction[class_1],class_2,prediction[class_2]))"
   ]
  },
  {
   "cell_type": "markdown",
   "metadata": {},
   "source": [
    "## Visualizing our Tree"
   ]
  },
  {
   "cell_type": "code",
   "execution_count": 13,
   "metadata": {
    "collapsed": false
   },
   "outputs": [
    {
     "name": "stdout",
     "output_type": "stream",
     "text": [
      "{'depth': 1,\n",
      " 'i': 0,\n",
      " 'impurity': 0.24679933491786996,\n",
      " 'left': {'depth': 2,\n",
      "          'i': 1,\n",
      "          'impurity': 0.15961960854754184,\n",
      "          'left': {'leaf': True,\n",
      "                   'prediction': {0.0: 0.070652173913043473,\n",
      "                                  1.0: 0.92934782608695654}},\n",
      "          'right': {'leaf': True,\n",
      "                    'prediction': {0.0: 0.80952380952380953,\n",
      "                                   1.0: 0.19047619047619047}},\n",
      "          'value': 7.6273999},\n",
      " 'right': {'depth': 2,\n",
      "           'i': 2,\n",
      "           'impurity': 0.13876960087955628,\n",
      "           'left': {'leaf': True,\n",
      "                    'prediction': {0.0: 0.23809523809523808,\n",
      "                                   1.0: 0.76190476190476186}},\n",
      "           'right': {'leaf': True,\n",
      "                     'prediction': {0.0: 0.93313521545319467,\n",
      "                                    1.0: 0.066864784546805348}},\n",
      "           'value': -4.3839002},\n",
      " 'value': 0.32229999}\n"
     ]
    }
   ],
   "source": [
    "import pprint\n",
    "pp = pprint.PrettyPrinter()\n",
    "pp.pprint(tree)"
   ]
  }
 ],
 "metadata": {
  "anaconda-cloud": {},
  "kernelspec": {
   "display_name": "Python [conda root]",
   "language": "python",
   "name": "conda-root-py"
  },
  "language_info": {
   "codemirror_mode": {
    "name": "ipython",
    "version": 3
   },
   "file_extension": ".py",
   "mimetype": "text/x-python",
   "name": "python",
   "nbconvert_exporter": "python",
   "pygments_lexer": "ipython3",
   "version": "3.5.2"
  }
 },
 "nbformat": 4,
 "nbformat_minor": 1
}
